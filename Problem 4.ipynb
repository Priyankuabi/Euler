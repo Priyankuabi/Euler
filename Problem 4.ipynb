{
 "cells": [
  {
   "cell_type": "markdown",
   "metadata": {},
   "source": [
    "## Largest palindrome product"
   ]
  },
  {
   "cell_type": "markdown",
   "metadata": {},
   "source": [
    "#### A palindromic number reads the same both ways. The largest palindrome made from the product of two 2-digit numbers is 9009 = 91 × 99.\n",
    "\n",
    "#### Find the largest palindrome made from the product of two 3-digit numbers."
   ]
  },
  {
   "cell_type": "code",
   "execution_count": 6,
   "metadata": {},
   "outputs": [
    {
     "name": "stdout",
     "output_type": "stream",
     "text": [
      "The largest palindromic number made from the product of two 3-digit number is:  906609\n"
     ]
    }
   ],
   "source": [
    "#This function is for checking whether a number is palindrome or not\n",
    "def is_palindrome(x):\n",
    "    s = str(x)\n",
    "    reverse_string = \"\"\n",
    "    for l in range(len(s) - 1, -1, -1):\n",
    "        reverse_string += s[l]\n",
    "    return reverse_string == s\n",
    "\n",
    "\n",
    "#setting the palindromic number equals to zero\n",
    "palindrome = 0\n",
    "for i in range(100, 1000):\n",
    "    for j in range(100, 1000):\n",
    "        x = i * j\n",
    "        is_palindrome(x)\n",
    "        if is_palindrome(x) == True and x > palindrome:\n",
    "            palindrome = x\n",
    "print(\"The largest palindromic number made from the product of two 3-digit number is: \",palindrome)\n",
    "            \n",
    "        \n",
    "\n",
    "        "
   ]
  }
 ],
 "metadata": {
  "kernelspec": {
   "display_name": "Python 3",
   "language": "python",
   "name": "python3"
  },
  "language_info": {
   "codemirror_mode": {
    "name": "ipython",
    "version": 3
   },
   "file_extension": ".py",
   "mimetype": "text/x-python",
   "name": "python",
   "nbconvert_exporter": "python",
   "pygments_lexer": "ipython3",
   "version": "3.7.1"
  }
 },
 "nbformat": 4,
 "nbformat_minor": 2
}
